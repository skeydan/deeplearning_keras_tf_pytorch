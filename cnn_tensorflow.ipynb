{
 "cells": [
  {
   "cell_type": "markdown",
   "metadata": {
    "collapsed": true
   },
   "source": [
    "from https://github.com/aymericdamien/TensorFlow-Examples/blob/master/examples/3_NeuralNetworks/convolutional_network_raw.py"
   ]
  },
  {
   "cell_type": "code",
   "execution_count": 1,
   "metadata": {
    "collapsed": true
   },
   "outputs": [],
   "source": [
    "import tensorflow as tf"
   ]
  },
  {
   "cell_type": "code",
   "execution_count": null,
   "metadata": {
    "collapsed": true
   },
   "outputs": [],
   "source": [
    "model_name = \"cnn_tensorflow_10epochs.ckpt\"\n",
    "model_exists = False"
   ]
  },
  {
   "cell_type": "code",
   "execution_count": 2,
   "metadata": {
    "collapsed": true
   },
   "outputs": [],
   "source": [
    "learning_rate = 0.001\n",
    "num_epochs = 10\n",
    "batch_size = 10"
   ]
  },
  {
   "cell_type": "code",
   "execution_count": 3,
   "metadata": {
    "collapsed": true
   },
   "outputs": [],
   "source": [
    "input_height = 224\n",
    "input_width = 224\n",
    "channels = 3\n",
    "num_classes = 6\n",
    "dropout = 0.5"
   ]
  },
  {
   "cell_type": "code",
   "execution_count": 4,
   "metadata": {
    "collapsed": true
   },
   "outputs": [],
   "source": [
    "# Placeholders\n",
    "X = tf.placeholder(tf.float32, [None, input_height, input_width, channels])\n",
    "Y = tf.placeholder(tf.float32, [None, num_classes])\n",
    "keep_prob = tf.placeholder(tf.float32) # dropout (keep probability)"
   ]
  },
  {
   "cell_type": "code",
   "execution_count": 5,
   "metadata": {
    "collapsed": true
   },
   "outputs": [],
   "source": [
    "# Variables\n",
    "# weights: (kernel height, kernel width, input size, output size)\n",
    "weights = {\n",
    "    'wconv1': tf.Variable(tf.random_normal([3, 3, 3, 32])),\n",
    "    'wconv2': tf.Variable(tf.random_normal([3, 3, 32, 32])),\n",
    "    'wconv3': tf.Variable(tf.random_normal([3, 3, 32, 32])),\n",
    "    'wconv4': tf.Variable(tf.random_normal([3, 3, 32, 32])),\n",
    "    'wdense1': tf.Variable(tf.random_normal([56*56*32, 256])),\n",
    "    'wout': tf.Variable(tf.random_normal([256, num_classes]))\n",
    "}\n",
    "\n",
    "# biases (output size)\n",
    "biases = {\n",
    "    'bconv1': tf.Variable(tf.random_normal([32])),\n",
    "    'bconv2': tf.Variable(tf.random_normal([32])),\n",
    "    'bconv3': tf.Variable(tf.random_normal([32])),\n",
    "    'bconv4': tf.Variable(tf.random_normal([32])),\n",
    "    'bdense1': tf.Variable(tf.random_normal([256])),\n",
    "    'bout': tf.Variable(tf.random_normal([num_classes]))\n",
    "}\n"
   ]
  },
  {
   "cell_type": "code",
   "execution_count": 6,
   "metadata": {
    "collapsed": true
   },
   "outputs": [],
   "source": [
    "# Create model\n",
    "def convnet(x, weights, biases, dropout):\n",
    "    \n",
    "    # shape=(?, 224, 224, 32)\n",
    "    conv1 = tf.nn.conv2d(x, weights['wconv1'], strides=[1, 1, 1, 1], padding='SAME')\n",
    "    conv1 = tf.nn.bias_add(conv1, biases['bconv1'])\n",
    "    conv1 = tf.nn.relu(conv1)\n",
    "    \n",
    "    # shape=(?, 224, 224, 32)\n",
    "    conv2 = tf.nn.conv2d(conv1, weights['wconv2'], strides=[1, 1, 1, 1], padding='SAME')\n",
    "    conv2 = tf.nn.bias_add(conv2, biases['bconv2'])\n",
    "    conv2 = tf.nn.relu(conv2)\n",
    "    # shape=(?, 112, 112, 32)\n",
    "    conv2 = tf.nn.max_pool(conv2, ksize=[1, 2, 2, 1], strides=[1, 2, 2, 1], padding='SAME')\n",
    "    \n",
    "    # shape=(?, 112, 112, 32)\n",
    "    conv3 = tf.nn.conv2d(conv2, weights['wconv3'], strides=[1, 1, 1, 1], padding='SAME')\n",
    "    conv3 = tf.nn.bias_add(conv3, biases['bconv3'])\n",
    "    conv3 = tf.nn.relu(conv3)\n",
    "    \n",
    "    # shape=(?, 112, 112, 32)\n",
    "    conv4 = tf.nn.conv2d(conv3, weights['wconv4'], strides=[1, 1, 1, 1], padding='SAME')\n",
    "    conv4 = tf.nn.bias_add(conv4, biases['bconv4'])\n",
    "    conv4 = tf.nn.relu(conv4)\n",
    "    # shape=(?, 56, 56, 32)\n",
    "    conv4 = tf.nn.max_pool(conv4, ksize=[1, 2, 2, 1], strides=[1, 2, 2, 1], padding='SAME')\n",
    "\n",
    "    # Reshape conv4 output to fit fully connected layer input\n",
    "    fc1 = tf.reshape(conv4, [-1, weights['wdense1'].get_shape().as_list()[0]])\n",
    "    fc1 = tf.add(tf.matmul(fc1, weights['wdense1']), biases['bdense1'])\n",
    "    fc1 = tf.nn.relu(fc1)\n",
    "    fc1 = tf.nn.dropout(fc1, dropout)\n",
    "\n",
    "    # Output, class prediction\n",
    "    out = tf.add(tf.matmul(fc1, weights['wout']), biases['bout'])\n",
    "    return tf.nn.softmax(out)\n"
   ]
  },
  {
   "cell_type": "code",
   "execution_count": 7,
   "metadata": {},
   "outputs": [],
   "source": [
    "# Construct model\n",
    "logits = convnet(X, weights, biases, keep_prob)\n",
    "prediction = tf.nn.softmax(logits)\n"
   ]
  },
  {
   "cell_type": "code",
   "execution_count": 8,
   "metadata": {
    "collapsed": true
   },
   "outputs": [],
   "source": [
    "# Define loss and optimizer\n",
    "loss_op = tf.reduce_mean(tf.nn.softmax_cross_entropy_with_logits(\n",
    "    logits=logits, labels=Y))\n",
    "optimizer = tf.train.AdamOptimizer(learning_rate=learning_rate)\n",
    "train_op = optimizer.minimize(loss_op)"
   ]
  },
  {
   "cell_type": "code",
   "execution_count": 9,
   "metadata": {
    "collapsed": true
   },
   "outputs": [],
   "source": [
    "# Evaluate model\n",
    "correct_pred = tf.equal(tf.argmax(prediction, 1), tf.argmax(Y, 1))\n",
    "accuracy = tf.reduce_mean(tf.cast(correct_pred, tf.float32))\n"
   ]
  },
  {
   "cell_type": "code",
   "execution_count": 10,
   "metadata": {},
   "outputs": [
    {
     "name": "stderr",
     "output_type": "stream",
     "text": [
      "Using TensorFlow backend.\n"
     ]
    },
    {
     "name": "stdout",
     "output_type": "stream",
     "text": [
      "Found 7096 images belonging to 6 classes.\n"
     ]
    }
   ],
   "source": [
    "from keras.preprocessing.image import ImageDataGenerator\n",
    "\n",
    "train_data_dir = 'data/train'\n",
    "test_data_dir = 'data/test' \n",
    "\n",
    "target_size = (224, 224)\n",
    "\n",
    "train_datagen = ImageDataGenerator(rescale=1. / 255)\n",
    "test_datagen = ImageDataGenerator(rescale=1. / 255)\n",
    "\n",
    "train_generator = train_datagen.flow_from_directory(\n",
    "    train_data_dir,\n",
    "    target_size=target_size,\n",
    "    batch_size=batch_size,\n",
    "    class_mode='categorical')\n",
    "\n",
    "#nxt = train_generator.next()\n",
    "#nxt[0].shape, nxt[1].shape\n"
   ]
  },
  {
   "cell_type": "code",
   "execution_count": 17,
   "metadata": {
    "collapsed": true
   },
   "outputs": [],
   "source": [
    "saver = tf.train.Saver()"
   ]
  },
  {
   "cell_type": "code",
   "execution_count": 11,
   "metadata": {
    "collapsed": true
   },
   "outputs": [],
   "source": [
    "init = tf.global_variables_initializer()\n",
    "\n",
    "n_train = 7096\n",
    "steps_per_epoch = n_train // batch_size"
   ]
  },
  {
   "cell_type": "code",
   "execution_count": 12,
   "metadata": {},
   "outputs": [
    {
     "name": "stdout",
     "output_type": "stream",
     "text": [
      "Starting epoch: 0\n",
      "Epoch 0, Loss= 1.8436, Training Accuracy= 0.200\n",
      "Starting epoch: 1\n",
      "Epoch 1, Loss= 1.8436, Training Accuracy= 0.200\n",
      "Starting epoch: 2\n",
      "Epoch 2, Loss= 1.8436, Training Accuracy= 0.200\n",
      "Starting epoch: 3\n",
      "Epoch 3, Loss= 2.0436, Training Accuracy= 0.000\n",
      "Starting epoch: 4\n",
      "Epoch 4, Loss= 1.8436, Training Accuracy= 0.200\n",
      "Starting epoch: 5\n",
      "Epoch 5, Loss= 2.0436, Training Accuracy= 0.000\n",
      "Starting epoch: 6\n",
      "Epoch 6, Loss= 1.8436, Training Accuracy= 0.200\n",
      "Starting epoch: 7\n",
      "Epoch 7, Loss= 1.7436, Training Accuracy= 0.300\n",
      "Starting epoch: 8\n",
      "Epoch 8, Loss= 1.6436, Training Accuracy= 0.400\n",
      "Starting epoch: 9\n",
      "Epoch 9, Loss= 1.7436, Training Accuracy= 0.300\n",
      "Optimization Finished!\n"
     ]
    }
   ],
   "source": [
    "with tf.Session() as sess:\n",
    "\n",
    "    sess.run(init)\n",
    "\n",
    "    for epoch in range(num_epochs):\n",
    "        \n",
    "        print(\"Starting epoch: {}\".format(epoch))\n",
    "        \n",
    "        for step in range(steps_per_epoch):\n",
    "            \n",
    "            batch_x, batch_y = train_generator.next()\n",
    "            sess.run(train_op, feed_dict={X: batch_x, Y: batch_y, keep_prob: dropout})\n",
    "            \n",
    "        loss, acc = sess.run([loss_op, accuracy], feed_dict={X: batch_x, \n",
    "                                                             Y: batch_y,\n",
    "                                                             keep_prob: 1.0})\n",
    "        print(\"Epoch \" + str(epoch) + \", Loss= \" + \\\n",
    "                  \"{:.4f}\".format(loss) + \", Training Accuracy= \" + \\\n",
    "                  \"{:.3f}\".format(acc))\n",
    "\n",
    "    print(\"Optimization Finished!\")\n",
    "    saver.save(sess, model_name)\n",
    "\n",
    "   "
   ]
  },
  {
   "cell_type": "code",
   "execution_count": 19,
   "metadata": {},
   "outputs": [
    {
     "ename": "NameError",
     "evalue": "name 'mnist' is not defined",
     "output_type": "error",
     "traceback": [
      "\u001b[0;31m---------------------------------------------------------------------------\u001b[0m",
      "\u001b[0;31mNameError\u001b[0m                                 Traceback (most recent call last)",
      "\u001b[0;32m<ipython-input-19-22e811fa8910>\u001b[0m in \u001b[0;36m<module>\u001b[0;34m()\u001b[0m\n\u001b[1;32m      1\u001b[0m \u001b[0;32mwith\u001b[0m \u001b[0mtf\u001b[0m\u001b[0;34m.\u001b[0m\u001b[0mSession\u001b[0m\u001b[0;34m(\u001b[0m\u001b[0;34m)\u001b[0m \u001b[0;32mas\u001b[0m \u001b[0msess\u001b[0m\u001b[0;34m:\u001b[0m\u001b[0;34m\u001b[0m\u001b[0m\n\u001b[1;32m      2\u001b[0m     sess.run(accuracy, \n\u001b[0;32m----> 3\u001b[0;31m          feed_dict={X: mnist.test.images[:256], Y: mnist.test.labels[:256],\n\u001b[0m\u001b[1;32m      4\u001b[0m          keep_prob: 1.0})\n",
      "\u001b[0;31mNameError\u001b[0m: name 'mnist' is not defined"
     ]
    }
   ],
   "source": [
    "with tf.Session() as sess:\n",
    "    sess.run(accuracy, \n",
    "         feed_dict={X: mnist.test.images[:256], Y: mnist.test.labels[:256],\n",
    "         keep_prob: 1.0})\n"
   ]
  },
  {
   "cell_type": "code",
   "execution_count": null,
   "metadata": {
    "collapsed": true
   },
   "outputs": [],
   "source": []
  }
 ],
 "metadata": {
  "kernelspec": {
   "display_name": "Python 3",
   "language": "python",
   "name": "python3"
  },
  "language_info": {
   "codemirror_mode": {
    "name": "ipython",
    "version": 3
   },
   "file_extension": ".py",
   "mimetype": "text/x-python",
   "name": "python",
   "nbconvert_exporter": "python",
   "pygments_lexer": "ipython3",
   "version": "3.5.3"
  }
 },
 "nbformat": 4,
 "nbformat_minor": 2
}
