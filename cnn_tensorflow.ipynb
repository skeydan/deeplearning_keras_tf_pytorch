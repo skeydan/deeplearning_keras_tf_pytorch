{
 "cells": [
  {
   "cell_type": "markdown",
   "metadata": {
    "collapsed": true
   },
   "source": [
    "# Distinguishing different sports - using TensorFlow"
   ]
  },
  {
   "cell_type": "markdown",
   "metadata": {},
   "source": [
    "There are several higher level wrappers for TensorFlow, last not least, Keras.\n",
    "The following code just serves to showcase raw TensorFlow - it has not been optimized in any way."
   ]
  },
  {
   "cell_type": "code",
   "execution_count": 1,
   "metadata": {
    "collapsed": true
   },
   "outputs": [],
   "source": [
    "import tensorflow as tf\n",
    "import numpy as np\n",
    "np.set_printoptions(precision = 3)"
   ]
  },
  {
   "cell_type": "code",
   "execution_count": 2,
   "metadata": {
    "collapsed": true
   },
   "outputs": [],
   "source": [
    "model_name = \"cnn_tensorflow_10epochs.ckpt\"\n",
    "model_exists = True"
   ]
  },
  {
   "cell_type": "code",
   "execution_count": 3,
   "metadata": {
    "collapsed": true
   },
   "outputs": [],
   "source": [
    "learning_rate = 0.001\n",
    "num_epochs = 1\n",
    "batch_size = 10\n",
    "\n",
    "\n",
    "n_train = 7096\n",
    "n_test = 1775\n",
    "steps_per_epoch = n_train // batch_size\n"
   ]
  },
  {
   "cell_type": "code",
   "execution_count": 4,
   "metadata": {
    "collapsed": true
   },
   "outputs": [],
   "source": [
    "input_height = 224\n",
    "input_width = 224\n",
    "channels = 3\n",
    "num_classes = 6\n",
    "dropout = 0.5"
   ]
  },
  {
   "cell_type": "code",
   "execution_count": 5,
   "metadata": {
    "collapsed": true
   },
   "outputs": [],
   "source": [
    "# Placeholders\n",
    "X = tf.placeholder(tf.float32, [None, input_height, input_width, channels])\n",
    "Y = tf.placeholder(tf.float32, [None, num_classes])\n",
    "keep_prob = tf.placeholder(tf.float32) \n",
    "phase = tf.placeholder(tf.bool) # for batchnorm"
   ]
  },
  {
   "cell_type": "code",
   "execution_count": 6,
   "metadata": {
    "collapsed": true
   },
   "outputs": [],
   "source": [
    "# Variables\n",
    "# weights: (kernel height, kernel width, input size, output size)\n",
    "weights = {\n",
    "    'wconv1': tf.Variable(tf.random_normal([3, 3, 3, 32])),\n",
    "    'wconv2': tf.Variable(tf.random_normal([3, 3, 32, 32])),\n",
    "    'wconv3': tf.Variable(tf.random_normal([3, 3, 32, 32])),\n",
    "    'wconv4': tf.Variable(tf.random_normal([3, 3, 32, 32])),\n",
    "    'wdense1': tf.Variable(tf.random_normal([56*56*32, 256])),\n",
    "    'wout': tf.Variable(tf.random_normal([256, num_classes]))\n",
    "}\n",
    "\n",
    "# biases (output size)\n",
    "biases = {\n",
    "    'bconv1': tf.Variable(tf.random_normal([32])),\n",
    "    'bconv2': tf.Variable(tf.random_normal([32])),\n",
    "    'bconv3': tf.Variable(tf.random_normal([32])),\n",
    "    'bconv4': tf.Variable(tf.random_normal([32])),\n",
    "    'bdense1': tf.Variable(tf.random_normal([256])),\n",
    "    'bout': tf.Variable(tf.random_normal([num_classes]))\n",
    "}\n"
   ]
  },
  {
   "cell_type": "code",
   "execution_count": 7,
   "metadata": {
    "collapsed": true
   },
   "outputs": [],
   "source": [
    "# Create model\n",
    "def convnet(x, weights, biases, dropout, phase):\n",
    "    \n",
    "    # shape=(?, 224, 224, 32)\n",
    "    conv1 = tf.nn.conv2d(x, weights['wconv1'], strides=[1, 1, 1, 1], padding='SAME')\n",
    "    \n",
    "    conv1 = tf.contrib.layers.batch_norm(conv1, center=True, scale=True, is_training=phase)\n",
    "    conv1 = tf.nn.bias_add(conv1, biases['bconv1'])\n",
    "    conv1 = tf.nn.relu(conv1)\n",
    "    \n",
    "    # shape=(?, 224, 224, 32)\n",
    "    conv2 = tf.nn.conv2d(conv1, weights['wconv2'], strides=[1, 1, 1, 1], padding='SAME')\n",
    "    conv2 = tf.contrib.layers.batch_norm(conv2, center=True, scale=True, is_training=phase)\n",
    "    conv2 = tf.nn.bias_add(conv2, biases['bconv2'])\n",
    "    conv2 = tf.nn.relu(conv2)\n",
    "    # shape=(?, 112, 112, 32)\n",
    "    conv2 = tf.nn.max_pool(conv2, ksize=[1, 2, 2, 1], strides=[1, 2, 2, 1], padding='SAME')\n",
    "    \n",
    "    # shape=(?, 112, 112, 32)\n",
    "    conv3 = tf.nn.conv2d(conv2, weights['wconv3'], strides=[1, 1, 1, 1], padding='SAME')\n",
    "    conv3 = tf.contrib.layers.batch_norm(conv3, center=True, scale=True, is_training=phase)\n",
    "    conv3 = tf.nn.bias_add(conv3, biases['bconv3'])\n",
    "    conv3 = tf.nn.relu(conv3)\n",
    "    \n",
    "    # shape=(?, 112, 112, 32)\n",
    "    conv4 = tf.nn.conv2d(conv3, weights['wconv4'], strides=[1, 1, 1, 1], padding='SAME')\n",
    "    conv4 = tf.contrib.layers.batch_norm(conv4, center=True, scale=True, is_training=phase)\n",
    "    conv4 = tf.nn.bias_add(conv4, biases['bconv4'])\n",
    "    conv4 = tf.nn.relu(conv4)\n",
    "    # shape=(?, 56, 56, 32)\n",
    "    conv4 = tf.nn.max_pool(conv4, ksize=[1, 2, 2, 1], strides=[1, 2, 2, 1], padding='SAME')\n",
    "\n",
    "    # Reshape conv4 output to fit fully connected layer input\n",
    "    fc1 = tf.reshape(conv4, [-1, weights['wdense1'].get_shape().as_list()[0]])\n",
    "    fc1 = tf.add(tf.matmul(fc1, weights['wdense1']), biases['bdense1'])\n",
    "    fc1 = tf.nn.relu(fc1)\n",
    "    fc1 = tf.nn.dropout(fc1, dropout)\n",
    "\n",
    "    # Output, class prediction\n",
    "    out = tf.add(tf.matmul(fc1, weights['wout']), biases['bout'])\n",
    "    return out\n"
   ]
  },
  {
   "cell_type": "code",
   "execution_count": 8,
   "metadata": {
    "collapsed": true
   },
   "outputs": [],
   "source": [
    "# Construct model\n",
    "logits = convnet(X, weights, biases, keep_prob, phase)\n",
    "prediction = tf.nn.softmax(logits)\n"
   ]
  },
  {
   "cell_type": "code",
   "execution_count": 9,
   "metadata": {
    "collapsed": true
   },
   "outputs": [],
   "source": [
    "# Define loss and optimizer\n",
    "loss_op = tf.reduce_mean(tf.nn.softmax_cross_entropy_with_logits(\n",
    "    logits=logits, labels=Y))\n",
    "optimizer = tf.train.AdamOptimizer(learning_rate=learning_rate)\n",
    "train_op = optimizer.minimize(loss_op)"
   ]
  },
  {
   "cell_type": "code",
   "execution_count": 10,
   "metadata": {
    "collapsed": true
   },
   "outputs": [],
   "source": [
    "# Evaluate model\n",
    "correct_pred = tf.equal(tf.argmax(prediction, 1), tf.argmax(Y, 1))\n",
    "accuracy = tf.reduce_mean(tf.cast(correct_pred, tf.float32))\n"
   ]
  },
  {
   "cell_type": "code",
   "execution_count": 11,
   "metadata": {},
   "outputs": [
    {
     "name": "stderr",
     "output_type": "stream",
     "text": [
      "Using TensorFlow backend.\n"
     ]
    },
    {
     "name": "stdout",
     "output_type": "stream",
     "text": [
      "Found 7096 images belonging to 6 classes.\n",
      "Found 1775 images belonging to 6 classes.\n"
     ]
    }
   ],
   "source": [
    "from keras.preprocessing.image import ImageDataGenerator\n",
    "\n",
    "train_data_dir = 'data/train'\n",
    "test_data_dir = 'data/test' \n",
    "\n",
    "target_size = (224, 224)\n",
    "\n",
    "train_datagen = ImageDataGenerator(rescale=1. / 255)\n",
    "test_datagen = ImageDataGenerator(rescale=1. / 255)\n",
    "\n",
    "train_generator = train_datagen.flow_from_directory(\n",
    "    train_data_dir,\n",
    "    target_size=target_size,\n",
    "    batch_size=batch_size,\n",
    "    class_mode='categorical')\n",
    "\n",
    "test_generator = test_datagen.flow_from_directory(\n",
    "    test_data_dir,\n",
    "    target_size=target_size,\n",
    "    batch_size=1,\n",
    "    class_mode='categorical')\n",
    "\n",
    "#nxt = train_generator.next()\n",
    "#nxt[0].shape, nxt[1].shape\n"
   ]
  },
  {
   "cell_type": "code",
   "execution_count": 12,
   "metadata": {
    "collapsed": true
   },
   "outputs": [],
   "source": [
    "saver = tf.train.Saver(var_list=tf.global_variables())"
   ]
  },
  {
   "cell_type": "code",
   "execution_count": 13,
   "metadata": {
    "collapsed": true
   },
   "outputs": [],
   "source": [
    "init = tf.global_variables_initializer()\n"
   ]
  },
  {
   "cell_type": "code",
   "execution_count": 14,
   "metadata": {
    "collapsed": true
   },
   "outputs": [],
   "source": [
    "if not model_exists:\n",
    "    \n",
    "        \n",
    "    with tf.Session() as sess:\n",
    "\n",
    "        sess.run(init)\n",
    "\n",
    "        for epoch in range(num_epochs):\n",
    "            \n",
    "            epoch_loss = 0\n",
    "            epoch_accuracy = 0\n",
    "            for step in range(steps_per_epoch):\n",
    "\n",
    "                batch_x, batch_y = train_generator.next()\n",
    "                sess.run(train_op, feed_dict={X: batch_x, Y: batch_y, keep_prob: dropout, phase: 1})\n",
    "\n",
    "                batch_loss, batch_accuracy = sess.run([loss_op, accuracy],\n",
    "                                                      feed_dict={X: batch_x, \n",
    "                                                                 Y: batch_y,\n",
    "                                                                 keep_prob: dropout,\n",
    "                                                                 phase: 1})\n",
    "                if step  % 50 == 0: print (\"     batch: {}, accuracy: {}\".format(step, batch_accuracy))\n",
    "                epoch_loss += batch_loss\n",
    "                epoch_accuracy += batch_accuracy\n",
    "                \n",
    "            epoch_loss /= steps_per_epoch\n",
    "            epoch_accuracy /= steps_per_epoch\n",
    "            print (\"Epoch {}: Loss: {}, accuracy: {}\".format(epoch, epoch_loss, epoch_accuracy))\n",
    "\n",
    "        saver.save(sess, model_name)\n",
    "\n",
    "   "
   ]
  },
  {
   "cell_type": "code",
   "execution_count": 15,
   "metadata": {},
   "outputs": [
    {
     "name": "stdout",
     "output_type": "stream",
     "text": [
      "INFO:tensorflow:Restoring parameters from ./cnn_tensorflow_10epochs.ckpt\n",
      "Test accuracy: 0.16507042253521126\n"
     ]
    }
   ],
   "source": [
    "if model_exists:\n",
    "    with tf.Session() as sess:\n",
    "        \n",
    "        sess.run(init)\n",
    "        saver = tf.train.import_meta_graph('cnn_tensorflow_10epochs.ckpt.meta')\n",
    "        saver.restore(sess, tf.train.latest_checkpoint('./'))\n",
    "        test_accuracy = 0\n",
    "        \n",
    "        for step in range(n_test):\n",
    "            batch_x, batch_y = test_generator.next()\n",
    "            batch_accuracy = sess.run(accuracy, feed_dict={X: batch_x, \n",
    "                                                           Y: batch_y,\n",
    "                                                           keep_prob: 1.0,\n",
    "                                                           phase: False})\n",
    "            test_accuracy += batch_accuracy\n",
    "        test_accuracy /= n_test\n",
    "        print(\"Test accuracy: {}\".format(test_accuracy))\n",
    "        "
   ]
  },
  {
   "cell_type": "code",
   "execution_count": null,
   "metadata": {
    "collapsed": true
   },
   "outputs": [],
   "source": []
  }
 ],
 "metadata": {
  "kernelspec": {
   "display_name": "Python 3",
   "language": "python",
   "name": "python3"
  },
  "language_info": {
   "codemirror_mode": {
    "name": "ipython",
    "version": 3
   },
   "file_extension": ".py",
   "mimetype": "text/x-python",
   "name": "python",
   "nbconvert_exporter": "python",
   "pygments_lexer": "ipython3",
   "version": "3.5.3"
  }
 },
 "nbformat": 4,
 "nbformat_minor": 2
}
